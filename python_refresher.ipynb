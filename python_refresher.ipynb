{
  "nbformat": 4,
  "nbformat_minor": 0,
  "metadata": {
    "colab": {
      "provenance": []
    },
    "kernelspec": {
      "name": "python3",
      "display_name": "Python 3"
    },
    "language_info": {
      "name": "python"
    }
  },
  "cells": [
    {
      "cell_type": "code",
      "execution_count": 1,
      "metadata": {
        "colab": {
          "base_uri": "https://localhost:8080/"
        },
        "id": "F6a_yPGFAwPP",
        "outputId": "b654c332-9b45-4925-d4fe-7c48510da411"
      },
      "outputs": [
        {
          "output_type": "stream",
          "name": "stdout",
          "text": [
            "Welcome to Python!\n"
          ]
        }
      ],
      "source": [
        "# Variables\n",
        "welcome: str = \"Welcome to Python!\"\n",
        "print(welcome)"
      ]
    },
    {
      "cell_type": "code",
      "source": [
        "# Comments\n",
        "\n",
        "\"\"\"\n",
        "Double quotation marks are used for Commenting\n",
        "\"\"\"\n",
        "\n",
        "'''\n",
        "Single quotation marks are used for Commenting\n",
        "'''"
      ],
      "metadata": {
        "colab": {
          "base_uri": "https://localhost:8080/",
          "height": 35
        },
        "id": "A87FWYBA2dLf",
        "outputId": "308de04f-9a07-484b-f8c2-0abab64b0b50"
      },
      "execution_count": 2,
      "outputs": [
        {
          "output_type": "execute_result",
          "data": {
            "text/plain": [
              "'\\nSingle quotation marks are used for Commenting\\n'"
            ],
            "application/vnd.google.colaboratory.intrinsic+json": {
              "type": "string"
            }
          },
          "metadata": {},
          "execution_count": 2
        }
      ]
    },
    {
      "cell_type": "code",
      "source": [
        "# Assignment 1\n",
        "\n",
        "\"\"\"\n",
        "Assignment\n",
        "Write a Python program that can do the following:\n",
        "\n",
        "- You have $50\n",
        "\n",
        "- You buy an item that is $15, that has a 3% tax\n",
        "\n",
        "- Using the print()  Print how much money you have left, after purchasing the item.\n",
        "\"\"\"\n",
        "\n",
        "initial_money: int = 50\n",
        "item_price: int = 15\n",
        "tax_percentage: float = 0.03\n",
        "\n",
        "def compute_tax(initial_price: int, tax_percentage: float) -> float:\n",
        "    return initial_price + (initial_price * tax_percentage)\n",
        "\n",
        "print(initial_money - compute_tax(item_price, tax_percentage))"
      ],
      "metadata": {
        "colab": {
          "base_uri": "https://localhost:8080/"
        },
        "id": "DR-jrxKp3IBG",
        "outputId": "b9d25d54-08c8-413f-d3e4-1f756c20e2cf"
      },
      "execution_count": 3,
      "outputs": [
        {
          "output_type": "stream",
          "name": "stdout",
          "text": [
            "34.55\n"
          ]
        }
      ]
    },
    {
      "cell_type": "code",
      "source": [
        "# String Formatting\n",
        "\n",
        "sentence: str = \"Hi {} {}, I hope you are doing well!\"\n",
        "name: str = \"John\"\n",
        "surname: str = \"Doe\"\n",
        "\n",
        "print(sentence.format(name, surname))"
      ],
      "metadata": {
        "colab": {
          "base_uri": "https://localhost:8080/"
        },
        "id": "ZbxnwM2Z4eyD",
        "outputId": "bfe23aa2-3bf8-466e-fc64-030b920fe170"
      },
      "execution_count": 4,
      "outputs": [
        {
          "output_type": "stream",
          "name": "stdout",
          "text": [
            "Hi John Doe, I hope you are doing well!\n"
          ]
        }
      ]
    },
    {
      "cell_type": "code",
      "source": [
        "# Assignment 2\n",
        "\n",
        "\"\"\"\n",
        "String Assignment\n",
        "String Assignment. (This can be tricky so feel free to watch solution so we can do it together)\n",
        "\n",
        "- Ask the user how many days until their birthday\n",
        "\n",
        "- Using the print()function. Print an approx. number of weeks until their birthday\n",
        "\n",
        "- 1 week is = to 7 days.\n",
        "\"\"\"\n",
        "\n",
        "\"\"\"\n",
        "Python Division Operators:\n",
        "- The division operator '/ ' performs standard division, which can result in a floating-point number.\n",
        "- The floor division operator // performs division and returns the largest integer that is less than or equal to the division result.\n",
        "\"\"\"\n",
        "\n",
        "def convert_days_to_weeks(days: int) -> int:\n",
        "    return days // 7\n",
        "\n",
        "days_until_birthday: int = int(input(\"How many days until your birthday? \"))\n",
        "print(convert_days_to_weeks(days_until_birthday))"
      ],
      "metadata": {
        "colab": {
          "base_uri": "https://localhost:8080/"
        },
        "id": "sXFTE0uM4kBy",
        "outputId": "2c0e893a-82da-445e-b298-01221152343b"
      },
      "execution_count": 5,
      "outputs": [
        {
          "output_type": "stream",
          "name": "stdout",
          "text": [
            "How many days until your birthday? 75\n",
            "10\n"
          ]
        }
      ]
    },
    {
      "cell_type": "code",
      "source": [
        "# Lists -> Ordered, mutable\n",
        "\n",
        "initial_list: list = [1, 2, 3, 4, 5]\n",
        "print(f\"Initial List: {initial_list}\")\n",
        "initial_list.append(6)\n",
        "print(f\"Initial List appending 6: {initial_list}\")\n",
        "initial_list.remove(1)\n",
        "print(f\"Initial List without first element: {initial_list}\")\n",
        "print(f\"Last element is {initial_list[-1]}\")\n",
        "print(f\"First two elements are {initial_list[4:]}\")"
      ],
      "metadata": {
        "id": "IkAgee2u57Qo",
        "colab": {
          "base_uri": "https://localhost:8080/"
        },
        "outputId": "8afc5679-ff87-4113-ecc6-cc78a38177ac"
      },
      "execution_count": 6,
      "outputs": [
        {
          "output_type": "stream",
          "name": "stdout",
          "text": [
            "Initial List: [1, 2, 3, 4, 5]\n",
            "Initial List appending 6: [1, 2, 3, 4, 5, 6]\n",
            "Initial List without first element: [2, 3, 4, 5, 6]\n",
            "Last element is 6\n",
            "First two elements are [6]\n"
          ]
        }
      ]
    },
    {
      "cell_type": "code",
      "source": [
        "# Sets -> Unordered, mutable, cannot contain duplicate values\n",
        "\n",
        "initial_set: set = {1, 2, 3, 4, 5}\n",
        "print(f\"Initial Set: {initial_set}\")"
      ],
      "metadata": {
        "colab": {
          "base_uri": "https://localhost:8080/"
        },
        "id": "r7AZPUlwH7bI",
        "outputId": "4d2b6ac7-d76a-4b44-e335-910d74c7ceb2"
      },
      "execution_count": 7,
      "outputs": [
        {
          "output_type": "stream",
          "name": "stdout",
          "text": [
            "Initial Set: {1, 2, 3, 4, 5}\n"
          ]
        }
      ]
    },
    {
      "cell_type": "code",
      "source": [
        "# Tuples -> Ordered, immutable\n",
        "\n",
        "initial_tuple: tuple = (1, 2, 3, 4, 5)\n",
        "print(f\"Initial Tuple: {initial_tuple}\")"
      ],
      "metadata": {
        "colab": {
          "base_uri": "https://localhost:8080/"
        },
        "id": "DfI8HpZoIkar",
        "outputId": "5d0a8b64-2d49-4470-cb72-655a4caf0b64"
      },
      "execution_count": 8,
      "outputs": [
        {
          "output_type": "stream",
          "name": "stdout",
          "text": [
            "Initial Tuple: (1, 2, 3, 4, 5)\n"
          ]
        }
      ]
    },
    {
      "cell_type": "code",
      "source": [
        "# Assignment 3\n",
        "\n",
        "\"\"\"\n",
        "Lists Assignment\n",
        "- Create a list of 5 animals called zoo\n",
        "\n",
        "- Delete the animal at the 3rd index.\n",
        "\n",
        "- Append a new animal at the end of the list\n",
        "\n",
        "- Delete the animal at the beginning of the list.\n",
        "\n",
        "- Print all the animals\n",
        "\n",
        "- Print only the first 3 animals\n",
        "\"\"\"\n",
        "\n",
        "animal_list: list = [\"Dog\", \"Cat\", \"Bird\", \"Fish\", \"Snake\"]\n",
        "print(f\"Initial List: {animal_list}\")\n",
        "animal_list.pop(3)\n",
        "animal_list.append(\"Lion\")\n",
        "animal_list.pop(0)\n",
        "print(f\"Final List: {animal_list}\")\n",
        "print(f\"First three animals: {animal_list[:3]}\")"
      ],
      "metadata": {
        "colab": {
          "base_uri": "https://localhost:8080/"
        },
        "id": "ibIFtJI9I3E0",
        "outputId": "f89318e1-93d1-4442-dcf0-a3243e9e22a1"
      },
      "execution_count": 9,
      "outputs": [
        {
          "output_type": "stream",
          "name": "stdout",
          "text": [
            "Initial List: ['Dog', 'Cat', 'Bird', 'Fish', 'Snake']\n",
            "Final List: ['Cat', 'Bird', 'Snake', 'Lion']\n",
            "First three animals: ['Cat', 'Bird', 'Snake']\n"
          ]
        }
      ]
    },
    {
      "cell_type": "code",
      "source": [
        "# Assignment 4\n",
        "\n",
        "\"\"\"\n",
        "- Create a variable grade holding an integer between 0 - 100\n",
        "\n",
        "- Code if, elif, else statements to print the letter grade of the number grade variable\n",
        "\n",
        "Grades:\n",
        "\n",
        "A = 90 - 100\n",
        "\n",
        "B = 80 - 89\n",
        "\n",
        "C = 70-79\n",
        "\n",
        "D = 60 - 69\n",
        "\n",
        "F = 0 - 59\n",
        "\"\"\"\n",
        "\n",
        "def compute_grade(grade: int) -> str:\n",
        "  if(grade >= 90 and grade <= 100):\n",
        "    return \"A\"\n",
        "  elif(grade >= 80 and grade <= 89):\n",
        "    return \"B\"\n",
        "  elif(grade >= 70 and grade <= 79):\n",
        "    return \"C\"\n",
        "  elif(grade >= 60 and grade <= 69):\n",
        "    return \"D\"\n",
        "  else:\n",
        "    return \"F\"\n",
        "\n",
        "grade: int = int(input(\"Enter your grade: \"))\n",
        "print(compute_grade(grade))"
      ],
      "metadata": {
        "colab": {
          "base_uri": "https://localhost:8080/"
        },
        "id": "cDv2UjnyJcfI",
        "outputId": "adfdaf76-e196-4548-c24f-a708fe32e27a"
      },
      "execution_count": 10,
      "outputs": [
        {
          "output_type": "stream",
          "name": "stdout",
          "text": [
            "Enter your grade: 98\n",
            "A\n"
          ]
        }
      ]
    },
    {
      "cell_type": "code",
      "source": [
        "# Object Oriented Programming\n",
        "\n",
        "\"\"\"\n",
        "Gladiator Match\n",
        "\"\"\"\n",
        "\n",
        "class Enemy:\n",
        "  def __init__(self, name: str, health_points: int, attack_damage: int):\n",
        "    self.name = name\n",
        "    self.health_points = health_points\n",
        "    self.attack_damage = attack_damage\n",
        "\n",
        "  def attack(self, enemy):\n",
        "    print(f\"{self.name} attacked {enemy.name}\")\n",
        "    enemy.health_points -= self.attack_damage\n",
        "\n",
        "  def is_alive(self):\n",
        "    is_alive = self.health_points > 0\n",
        "    if(is_alive):\n",
        "      print(f\"{self.name} is alive\")\n",
        "    else:\n",
        "      print(f\"{self.name} is dead\")\n",
        "    return is_alive\n",
        "\n",
        "  def talk(self):\n",
        "    print(f\"Hi, I am {self.name}\")\n",
        "\n",
        "  def walk_forward(self):\n",
        "    print(f\"{self.name} is walking forward\")\n",
        "\n",
        "  def walk_backward(self):\n",
        "    print(f\"{self.name} is walking backward\")\n",
        "\n",
        "  def special_attack(self):\n",
        "    print(f\"{self.name} does not have a special attack\")\n",
        "\n",
        "  def __str__(self):\n",
        "    return f\"Name: {self.name}, Health Points: {self.health_points}, Attack Damage: {self.attack_damage}\"\n",
        "\n",
        "\n",
        "enemy_one = Enemy(\"Zombie\", 100, 20)\n",
        "enemy_two = Enemy(\"Ogre\", 100, 40)\n",
        "print(enemy_one)\n",
        "print(enemy_two)\n",
        "\n",
        "enemy_one.attack(enemy_two)\n",
        "print(enemy_one)\n",
        "print(enemy_two)\n",
        "\n",
        "enemy_two.attack(enemy_one)\n",
        "print(enemy_one)\n",
        "print(enemy_two)"
      ],
      "metadata": {
        "id": "XJ1QS4kGJ2F0",
        "colab": {
          "base_uri": "https://localhost:8080/"
        },
        "outputId": "bb7bacd4-c1f7-4cc9-f399-b864800442eb"
      },
      "execution_count": 11,
      "outputs": [
        {
          "output_type": "stream",
          "name": "stdout",
          "text": [
            "Name: Zombie, Health Points: 100, Attack Damage: 20\n",
            "Name: Ogre, Health Points: 100, Attack Damage: 40\n",
            "Zombie attacked Ogre\n",
            "Name: Zombie, Health Points: 100, Attack Damage: 20\n",
            "Name: Ogre, Health Points: 80, Attack Damage: 40\n",
            "Ogre attacked Zombie\n",
            "Name: Zombie, Health Points: 60, Attack Damage: 20\n",
            "Name: Ogre, Health Points: 80, Attack Damage: 40\n"
          ]
        }
      ]
    },
    {
      "cell_type": "code",
      "source": [
        "from abc import ABC, abstractmethod\n",
        "import random\n",
        "\n",
        "class Special_Attack(ABC):\n",
        "  @abstractmethod\n",
        "  def activate(self):\n",
        "        pass\n",
        "\n",
        "class Zombie_Special_Attack(Special_Attack):\n",
        "  def activate(self, enemy: Enemy):\n",
        "    did_special_attack_work = random.random() < 0.5\n",
        "    if(did_special_attack_work):\n",
        "      enemy.health_points += 2\n",
        "      print(\"Zombie regenerated by 2 HP\")\n",
        "\n",
        "class Ogre_Special_Attack(Special_Attack):\n",
        "  def activate(self, enemy: Enemy):\n",
        "    did_special_attack_work = random.random() < 0.5\n",
        "    if(did_special_attack_work):\n",
        "      enemy.attack_damage += 4\n",
        "      print(\"Ogre has increased attack by 4\")\n",
        "\n",
        "class Zombie(Enemy):\n",
        "  def __init__(self, name: str, health_points: int, attack_damage: int):\n",
        "    super().__init__(name, health_points, attack_damage)\n",
        "\n",
        "  def activate_(self, value):\n",
        "      return self.func(value)\n",
        "\n",
        "  def talk(self):\n",
        "    print(\"Grumbling\")\n",
        "\n",
        "  def spread_disease(self):\n",
        "    print(f\"{self.name} is trying to spreading infection\")\n",
        "\n",
        "  def special_attack(self):\n",
        "    did_special_attack_work = random.random() < 0.50  # 50% chance for the special attack to work\n",
        "    if did_special_attack_work:\n",
        "      self.health_points += 2\n",
        "      print(\"Zombie regenerated 2 HP!\")\n",
        "\n",
        "class Ogre(Enemy):\n",
        "  def __init__(self, name: str, health_points: int, attack_damage: int):\n",
        "    super().__init__(name, health_points, attack_damage)\n",
        "\n",
        "  def special_attack(self):\n",
        "    did_special_attack_work = random.random() < 0.20\n",
        "    if did_special_attack_work:\n",
        "      self.attack_damage += 4\n",
        "      print(\"Ogre gets angry and its attack has increased by 4!\")\n",
        "\n",
        "  def talk(self):\n",
        "    print(\"Ogre is slamming hands all around!\")"
      ],
      "metadata": {
        "id": "q2_TZQtYbp3w"
      },
      "execution_count": 12,
      "outputs": []
    },
    {
      "cell_type": "code",
      "source": [
        "def battle(e1: Enemy, e2: Enemy):\n",
        "    e1.talk()\n",
        "    e2.talk()\n",
        "\n",
        "    while e1.health_points > 0 and e2.health_points > 0:\n",
        "        print(\"-------------\")\n",
        "        e1.special_attack()\n",
        "        e2.special_attack()\n",
        "        print(f\"{e1.name}: {e1.health_points} HP left\")\n",
        "        print(f\"{e2.name}: {e2.health_points} HP left\")\n",
        "        e2.attack(e1)\n",
        "        e1.health_points -= e2.attack_damage\n",
        "        e1.attack(e2)\n",
        "        e2.health_points -= e1.attack_damage\n",
        "\n",
        "    print(\"-------------\")\n",
        "\n",
        "    if e1.health_points > 0:\n",
        "        print(f\"{e1.nam} wins!\")\n",
        "    else:\n",
        "        print(f\"{e2.name} wins!\")\n",
        "\n",
        "zombie = Zombie(\"Zombie\", 100, 20)\n",
        "ogre = Ogre(\"Ogre\", 100, 40)\n",
        "\n",
        "battle(zombie, ogre)"
      ],
      "metadata": {
        "colab": {
          "base_uri": "https://localhost:8080/"
        },
        "id": "Wj4Xo_WfG97a",
        "outputId": "99bc3c2f-fa23-4afe-d282-f02162424301"
      },
      "execution_count": 13,
      "outputs": [
        {
          "output_type": "stream",
          "name": "stdout",
          "text": [
            "Grumbling\n",
            "Ogre is slamming hands all around!\n",
            "-------------\n",
            "Zombie: 100 HP left\n",
            "Ogre: 100 HP left\n",
            "Ogre attacked Zombie\n",
            "Zombie attacked Ogre\n",
            "-------------\n",
            "Zombie regenerated 2 HP!\n",
            "Zombie: 22 HP left\n",
            "Ogre: 60 HP left\n",
            "Ogre attacked Zombie\n",
            "Zombie attacked Ogre\n",
            "-------------\n",
            "Ogre wins!\n"
          ]
        }
      ]
    },
    {
      "cell_type": "code",
      "source": [
        "\"\"\"\n",
        "Create a class named Hero with same base attributes as enemy, and a hero has an object named weapon, with attributes weapon type and attack increase\n",
        "\"\"\"\n",
        "\n",
        "class Weapon:\n",
        "  def __init__(self, weapon_type: str, attack_increase: int):\n",
        "    self.weapon_type = weapon_type\n",
        "    self.attack_increase = attack_increase\n",
        "\n",
        "class Hero:\n",
        "  def __init__(self, health_points, attack_damage):\n",
        "      self.health_points = health_points\n",
        "      self.attack_damage = attack_damage\n",
        "      self.is_weapon_equipped = False\n",
        "      self.weapon: Weapon = None\n",
        "\n",
        "  def equip_weapon(self):\n",
        "      if self.weapon is not None and not self.is_weapon_equipped:\n",
        "        self.attack_damage += self.weapon.attack_increase\n",
        "        self.is_weapon_equipped = True\n",
        "\n",
        "  def attack(self):\n",
        "      print(f\"Hero attacks for {self.attack_damage} damage\")"
      ],
      "metadata": {
        "id": "oDH-e2aqK-t9"
      },
      "execution_count": 14,
      "outputs": []
    },
    {
      "cell_type": "code",
      "source": [
        "def hero_battle(hero: Hero, enemy: Enemy):\n",
        "\n",
        "    while hero.health_points > 0 and enemy.health_points > 0:\n",
        "        print(\"-------------\")\n",
        "        enemy.special_attack()\n",
        "        print(f\"Hero: {hero.health_points} HP left\")\n",
        "        print(f\"{enemy.name}: {enemy.health_points} HP left\")\n",
        "        hero.health_points -= enemy.attack_damage\n",
        "        hero.attack()\n",
        "        enemy.health_points -= hero.attack_damage\n",
        "\n",
        "    print(\"-------------\")\n",
        "\n",
        "    if hero.health_points > 0:\n",
        "        print(f\"Hero wins!\")\n",
        "    else:\n",
        "        print(f\"{enemy.name} wins!\")\n",
        "\n",
        "\n",
        "zombie = Zombie(\"Zombie\", 100, 20)\n",
        "hero = Hero(10, 1)\n",
        "weapon = Weapon('Sword', 5)\n",
        "hero.weapon = weapon\n",
        "hero.equip_weapon()\n",
        "hero_battle(hero, zombie)"
      ],
      "metadata": {
        "colab": {
          "base_uri": "https://localhost:8080/"
        },
        "id": "lz-gmky6MYPv",
        "outputId": "d05dada1-e1b4-404c-de7e-dcc831370f30"
      },
      "execution_count": 15,
      "outputs": [
        {
          "output_type": "stream",
          "name": "stdout",
          "text": [
            "-------------\n",
            "Hero: 10 HP left\n",
            "Zombie: 100 HP left\n",
            "Hero attacks for 6 damage\n",
            "-------------\n",
            "Zombie wins!\n"
          ]
        }
      ]
    }
  ]
}